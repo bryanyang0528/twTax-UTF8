{
 "cells": [
  {
   "cell_type": "code",
   "execution_count": null,
   "metadata": {
    "collapsed": true
   },
   "outputs": [],
   "source": [
    "from requests import get  # to make GET request\n",
    "\n",
    "\n",
    "def download(url, file_name):\n",
    "    # open in binary mode\n",
    "    with open(file_name, \"wb\") as file:\n",
    "        # get request\n",
    "        response = get(url)\n",
    "        # write to file\n",
    "        file.write(response.content)"
   ]
  },
  {
   "cell_type": "code",
   "execution_count": null,
   "metadata": {
    "collapsed": true
   },
   "outputs": [],
   "source": [
    "county_map = {\n",
    "    '11564':'宜蘭縣',\n",
    "    '11565':'花蓮縣',\n",
    "    '11566':'金門縣',\n",
    "    '11567':'南投縣',\n",
    "    '11568':'屏東縣',\n",
    "    '11569':'苗栗縣',\n",
    "    '11570':'桃園縣',\n",
    "    '11571':'高雄市',\n",
    "    '11572':'基隆市',\n",
    "    '11573':'連江縣',\n",
    "    '11574':'雲林縣',\n",
    "    '11575':'新北市',\n",
    "    '11576':'新竹市',\n",
    "    '11577':'新竹縣',\n",
    "    '11578':'嘉義市',\n",
    "    '11580':'嘉義縣',\n",
    "    '11581':'彰化縣',\n",
    "    '11582':'台中市',\n",
    "    '11583':'台北市',\n",
    "    '11584':'台東縣',\n",
    "    '11585':'台南市',\n",
    "    '11586':'澎湖縣'\n",
    "}"
   ]
  },
  {
   "cell_type": "code",
   "execution_count": null,
   "metadata": {},
   "outputs": [],
   "source": [
    "for i  in county_map.keys():\n",
    "    print('downloading %s' % (county_map[i]))\n",
    "    download('http://data.gov.tw/iisi/logaccess/%s?d' % (i), 'data/101/%s.csv' % (county_map[i]))"
   ]
  }
 ],
 "metadata": {
  "kernelspec": {
   "display_name": "Python 3",
   "language": "python",
   "name": "python3"
  },
  "language_info": {
   "codemirror_mode": {
    "name": "ipython",
    "version": 3
   },
   "file_extension": ".py",
   "mimetype": "text/x-python",
   "name": "python",
   "nbconvert_exporter": "python",
   "pygments_lexer": "ipython3",
   "version": "3.5.3"
  }
 },
 "nbformat": 4,
 "nbformat_minor": 2
}
